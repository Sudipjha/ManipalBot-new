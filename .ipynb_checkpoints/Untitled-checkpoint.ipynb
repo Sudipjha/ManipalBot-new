{
 "cells": [
  {
   "cell_type": "code",
   "execution_count": null,
   "metadata": {},
   "outputs": [
    {
     "name": "stdout",
     "output_type": "stream",
     "text": [
      " * Serving Flask app \"__main__\" (lazy loading)\n",
      " * Environment: production\n",
      "   WARNING: Do not use the development server in a production environment.\n",
      "   Use a production WSGI server instead.\n",
      " * Debug mode: off\n"
     ]
    },
    {
     "name": "stderr",
     "output_type": "stream",
     "text": [
      " * Running on http://127.0.0.1:5000/ (Press CTRL+C to quit)\n"
     ]
    }
   ],
   "source": [
    "# import flask dependencies\n",
    "from flask import Flask, request, make_response, jsonify\n",
    "import requests\n",
    "from requests.auth import HTTPBasicAuth\n",
    "import json\n",
    "\n",
    "\n",
    "# initialize the flask app\n",
    "app = Flask(__name__)\n",
    "\n",
    "# default route\n",
    "@app.route('/')\n",
    "def index():\n",
    "    return 'Hello World!'\n",
    "\n",
    "# function for responses\n",
    "def results():\n",
    "    # build a request object\n",
    "    req = request.get_json(force=True)\n",
    "    \n",
    "    \n",
    "    if req['queryResult']['intent']['displayName'] == \"english - book appointment - banaguluru\":\n",
    "        search_id = req['queryResult']['parameters']['Banguluruhospitals']\n",
    "        api_response = requests.get('https://test.manipalhospitals.com/chatbot-get-hospitals-speciality/'+str(search_id),auth = HTTPBasicAuth('manipalchatbotapi','manipalchatbotapi'))\n",
    "        speciality_response = json.loads(api_response)\n",
    "        items = []\n",
    "        for i in range(len(speciality_response)):\n",
    "            my_dict = {}\n",
    "            my_dict[\"info\"] = {\"key\":speciality_response[i]['name']}\n",
    "            my_dict[\"title\"] = speciality_response[i]['name']\n",
    "            my_dict[\"image\"] = {}\n",
    "            items.append(my_dict)\n",
    "        return {\n",
    "        \"fulfillmentMessages\": [\n",
    "          {\n",
    "            \"platform\": \"ACTIONS_ON_GOOGLE\",\n",
    "            \"simpleResponses\": {\n",
    "              \"simpleResponses\": [\n",
    "                {\n",
    "                  \"textToSpeech\": \"Select your specialties you are looking for:\"\n",
    "                }\n",
    "              ]\n",
    "            }\n",
    "          },\n",
    "          {\n",
    "            \"platform\": \"ACTIONS_ON_GOOGLE\",\n",
    "            \"listSelect\": {\n",
    "              \"title\": \"Centre Of Excellence\",\n",
    "              \"items\": items\n",
    "            }\n",
    "          }\n",
    "        ]}\n",
    "    \n",
    "    \n",
    "    #print(req)\n",
    "    if req['queryResult']['intent']['displayName'] == 'english - find doctors - specialties1' or 'old airport road - cardiology':\n",
    "        api_response = requests.get('https://www.manipalhospitals.com/patient_api/index_get',auth = HTTPBasicAuth('manipal','M@AnipalDoc##2020'))\n",
    "        api_response = json.loads(api_response.text)\n",
    "        items = []\n",
    "        for i in range(5):\n",
    "            my_dict = {}\n",
    "            image_dict = {}\n",
    "            key = {}\n",
    "            key['key'] = api_response[i]['DoctorCode']\n",
    "            image_dict['imageUri'] = api_response[i]['photo']\n",
    "            image_dict['accessibilityText'] = api_response[i]['doc_name']\n",
    "            my_dict['info'] = key\n",
    "            my_dict['title'] = api_response[i]['doc_name']\n",
    "            my_dict['description'] = api_response[i]['DeptName']\n",
    "            my_dict['image'] = image_dict\n",
    "            items.append(my_dict)\n",
    "        \n",
    "        return  {'fulfillmentMessages': [\n",
    "      {\n",
    "        \"platform\": \"ACTIONS_ON_GOOGLE\",\n",
    "        \"simpleResponses\": {\n",
    "          \"simpleResponses\": [\n",
    "            {\n",
    "              \"textToSpeech\": \"Here is the list of Doctors\"\n",
    "            }\n",
    "          ]\n",
    "        }\n",
    "      },\n",
    "       {\n",
    "         \"platform\": \"ACTIONS_ON_GOOGLE\",\n",
    "         \"carouselSelect\": {\n",
    "           \"items\":items\n",
    "         }\n",
    "       }\n",
    "    ]}\n",
    "    \n",
    "    \n",
    "    # fetch action from json\n",
    "    \n",
    "    #return {'fulfillmentMessages':[{\"text\":{\"text\":['Hello']}}]}\n",
    "    # return a fulfillment response\n",
    "    \n",
    "\n",
    "# create a route for webhook\n",
    "@app.route('/webhook/', methods=['GET', 'POST'])\n",
    "def webhook():\n",
    "    # return response\n",
    "    return make_response(jsonify(results()))\n",
    "\n",
    "# run the app\n",
    "if __name__ == '__main__':\n",
    "   app.run()"
   ]
  },
  {
   "cell_type": "code",
   "execution_count": null,
   "metadata": {},
   "outputs": [],
   "source": []
  },
  {
   "cell_type": "code",
   "execution_count": null,
   "metadata": {},
   "outputs": [],
   "source": [
    "req = {'responseId': '5d2cd7c9-1f78-4f0e-a926-9e5deb3b125b-5d846bd5', 'queryResult': {'queryText': 'cardiology', 'action': 'DefaultWelcomeIntent.DefaultWelcomeIntent-custom.english-custom.english-finddoctors-custom', 'parameters': {}, 'allRequiredParamsPresent': True, 'fulfillmentMessages': [{'platform': 'ACTIONS_ON_GOOGLE', 'simpleResponses': {'simpleResponses': [{'textToSpeech': 'Below are the concern doctor for you.'}]}}, {'platform': 'ACTIONS_ON_GOOGLE', 'simpleResponses': {'simpleResponses': [{'textToSpeech': 'Click on card for book appointment and View detail.'}]}}, {'platform': 'ACTIONS_ON_GOOGLE', 'carouselSelect': {'items': [{'info': {'key': 'DR. ANAND R SHENOY'}, 'title': 'DR. ANAND R SHENOY', 'description': 'Consultant - Interventional Cardiology', 'image': {'imageUri': 'https://www.manipalhospitals.com/uploads/doctors_photo/Cardiology_-_Dr_Anand_Shenoy4.png', 'accessibilityText': 'DR. ANAND R SHENOY'}}, {'info': {'key': 'DR. CHAKRAPANI B S'}, 'title': 'DR. CHAKRAPANI B S', 'description': 'Consultant - Cardiology', 'image': {'imageUri': 'https://www.manipalhospitals.com/uploads/doctors_photo/Cardiology_-_Dr_Chakrapani_B_S.png', 'accessibilityText': 'DR. CHAKRAPANI B S'}}, {'info': {'key': 'DR. BIPIN KUMAR DUBEY'}, 'title': 'DR. BIPIN KUMAR DUBEY', 'description': 'HOD And Consultant - Cardiac Science', 'image': {'imageUri': 'https://www.manipalhospitals.com/uploads/doctors_photo/Dr_Bipin_Dubey.png', 'accessibilityText': 'DR. BIPIN KUMAR DUBEY'}}]}}, {'text': {'text': ['']}}], 'outputContexts': [{'name': 'projects/manipal-chatbot-test-ceks/locations/global/agent/sessions/3a0c4b99-46d3-03cc-7246-4eb13124b3da/contexts/english-finddoctors-followup', 'lifespanCount': 1}, {'name': 'projects/manipal-chatbot-test-ceks/locations/global/agent/sessions/3a0c4b99-46d3-03cc-7246-4eb13124b3da/contexts/english-followup', 'parameters': {'language': ['English'], 'language.original': ['english']}}, {'name': 'projects/manipal-chatbot-test-ceks/locations/global/agent/sessions/3a0c4b99-46d3-03cc-7246-4eb13124b3da/contexts/__system_counters__', 'parameters': {'no-input': 0.0, 'no-match': 0.0}}], 'intent': {'name': 'projects/manipal-chatbot-test-ceks/agent/intents/c1bbc7b5-d76c-40d4-ad37-6ade463ef46e', 'displayName': 'english - find doctors - specialties1'}, 'intentDetectionConfidence': 1.0, 'languageCode': 'en'}, 'originalDetectIntentRequest': {'source': 'DIALOGFLOW_CONSOLE', 'payload': {}}, 'session': 'projects/manipal-chatbot-test-ceks/locations/global/agent/sessions/3a0c4b99-46d3-03cc-7246-4eb13124b3da'}"
   ]
  },
  {
   "cell_type": "code",
   "execution_count": null,
   "metadata": {},
   "outputs": [],
   "source": [
    "req['queryResult']['intent']['displayName']"
   ]
  },
  {
   "cell_type": "code",
   "execution_count": null,
   "metadata": {},
   "outputs": [],
   "source": [
    "import requests\n",
    "from requests.auth import HTTPBasicAuth\n",
    "\n",
    "api_response = requests.get('https://www.manipalhospitals.com/patient_api/index_get',auth = HTTPBasicAuth('manipal','M@AnipalDoc##2020'))"
   ]
  },
  {
   "cell_type": "code",
   "execution_count": null,
   "metadata": {},
   "outputs": [],
   "source": [
    "import json\n",
    "api_response = json.loads(api_response.text)"
   ]
  },
  {
   "cell_type": "code",
   "execution_count": 1,
   "metadata": {},
   "outputs": [],
   "source": [
    "import pygsheets\n",
    "#authorization\n",
    "gc = pygsheets.authorize(service_file='muliplier-bot-iyl9-ccd96b75d437.json')\n",
    "\n",
    "\n",
    "#open the google spreadsheet (where 'PY to Gsheet Test' is the name of my sheet)\n",
    "sh = gc.open('multiplier_bot_data')\n",
    "wks = sh[0]\n",
    "old_df = wks.get_as_df()\n",
    "#select the first sheet \n",
    "\n",
    "# new_df = pd.concat([old_df,df])\n",
    "# #update the first sheet with df, starting at cell B2. \n",
    "# wks.set_dataframe(new_df,(1,1))"
   ]
  },
  {
   "cell_type": "code",
   "execution_count": 2,
   "metadata": {},
   "outputs": [
    {
     "data": {
      "text/html": [
       "<div>\n",
       "<style scoped>\n",
       "    .dataframe tbody tr th:only-of-type {\n",
       "        vertical-align: middle;\n",
       "    }\n",
       "\n",
       "    .dataframe tbody tr th {\n",
       "        vertical-align: top;\n",
       "    }\n",
       "\n",
       "    .dataframe thead th {\n",
       "        text-align: right;\n",
       "    }\n",
       "</style>\n",
       "<table border=\"1\" class=\"dataframe\">\n",
       "  <thead>\n",
       "    <tr style=\"text-align: right;\">\n",
       "      <th></th>\n",
       "      <th>User ID</th>\n",
       "      <th>Mobile_Number</th>\n",
       "      <th>User_message</th>\n",
       "      <th>Bot_message</th>\n",
       "      <th>Timestamp</th>\n",
       "      <th>Session id</th>\n",
       "    </tr>\n",
       "  </thead>\n",
       "  <tbody>\n",
       "  </tbody>\n",
       "</table>\n",
       "</div>"
      ],
      "text/plain": [
       "Empty DataFrame\n",
       "Columns: [User ID, Mobile_Number, User_message, Bot_message, Timestamp, Session id]\n",
       "Index: []"
      ]
     },
     "execution_count": 2,
     "metadata": {},
     "output_type": "execute_result"
    }
   ],
   "source": [
    "old_df.head()"
   ]
  },
  {
   "cell_type": "code",
   "execution_count": 9,
   "metadata": {},
   "outputs": [],
   "source": [
    "import requests\n",
    "from requests.auth import HTTPBasicAuth\n",
    "\n",
    "api_response = requests.get('https://test.manipalhospitals.com/chatbot-get-hospitals-speciality/2',auth = HTTPBasicAuth('manipalchatbotapi','manipalchatbotapi'))"
   ]
  },
  {
   "cell_type": "code",
   "execution_count": 11,
   "metadata": {},
   "outputs": [],
   "source": [
    "import json\n",
    "speciality_response = json.loads(api_response.text)"
   ]
  },
  {
   "cell_type": "code",
   "execution_count": 2,
   "metadata": {},
   "outputs": [],
   "source": [
    "import requests\n",
    "search_id = 1\n",
    "from requests.auth import HTTPBasicAuth\n",
    "\n",
    "api_response = requests.get('https://test.manipalhospitals.com/chatbot-get-hospitals-speciality/'+str(search_id),auth = HTTPBasicAuth('manipalchatbotapi','manipalchatbotapi'))\n"
   ]
  },
  {
   "cell_type": "code",
   "execution_count": 3,
   "metadata": {},
   "outputs": [
    {
     "data": {
      "text/plain": [
       "<Response [200]>"
      ]
     },
     "execution_count": 3,
     "metadata": {},
     "output_type": "execute_result"
    }
   ],
   "source": [
    "api_response"
   ]
  },
  {
   "cell_type": "code",
   "execution_count": 4,
   "metadata": {},
   "outputs": [
    {
     "data": {
      "text/plain": [
       "'    [{\"speciality_id\":\"57\",\"name\":\"Accident and Emergency Care\",\"slug\":\"accident-and-emergency-care\"},{\"speciality_id\":\"2\",\"name\":\"Cancer Care\",\"slug\":\"cancer-care\"},{\"speciality_id\":\"3\",\"name\":\"Cardiology\",\"slug\":\"cardiology\"},{\"speciality_id\":\"5\",\"name\":\"Cardiothoracic Vascular Surgery\",\"slug\":\"cardiothoracic-vascular-surgery\"},{\"speciality_id\":\"6\",\"name\":\"Gastrointestinal Science\",\"slug\":\"gastrointestinal-science\"},{\"speciality_id\":\"62\",\"name\":\"Laparoscopic Surgery\",\"slug\":\"laparoscopic-surgery\"},{\"speciality_id\":\"7\",\"name\":\"Liver Transplantation Surgery\",\"slug\":\"liver-transplantation-surgery\"},{\"speciality_id\":\"8\",\"name\":\"Nephrology\",\"slug\":\"nephrology\"},{\"speciality_id\":\"9\",\"name\":\"Neurology\",\"slug\":\"neurology\"},{\"speciality_id\":\"58\",\"name\":\"Neurosurgery\",\"slug\":\"neurosurgery\"},{\"speciality_id\":\"10\",\"name\":\"Obstetrics and Gynaecology\",\"slug\":\"obstetrics-and-gynaecology\"},{\"speciality_id\":\"12\",\"name\":\"Orthopaedics\",\"slug\":\"orthopaedics\"},{\"speciality_id\":\"4\",\"name\":\"Paediatric And Child Care\",\"slug\":\"paediatric-and-child-care\"},{\"speciality_id\":\"13\",\"name\":\"Rheumatology\",\"slug\":\"rheumatology\"},{\"speciality_id\":\"14\",\"name\":\"Spine Care\",\"slug\":\"spine-care\"},{\"speciality_id\":\"15\",\"name\":\"Urology\",\"slug\":\"urology\"},{\"speciality_id\":\"17\",\"name\":\"Anesthesiology\",\"slug\":\"anesthesiology\"},{\"speciality_id\":\"18\",\"name\":\"Bariatric Surgery\",\"slug\":\"bariatric-surgery\"},{\"speciality_id\":\"21\",\"name\":\"Dental Medicine\",\"slug\":\"dental-medicine\"},{\"speciality_id\":\"22\",\"name\":\"Dermatology\",\"slug\":\"dermatology\"},{\"speciality_id\":\"23\",\"name\":\"Diabetes and Endocrinology\",\"slug\":\"diabetes-and-endocrinology\"},{\"speciality_id\":\"24\",\"name\":\"Ear Nose Throat\",\"slug\":\"ear-nose-throat\"},{\"speciality_id\":\"25\",\"name\":\"Fetal Medicine\",\"slug\":\"fetal-medicine\"},{\"speciality_id\":\"28\",\"name\":\"General Surgery\",\"slug\":\"general-surgery\"},{\"speciality_id\":\"26\",\"name\":\"General Medicine\",\"slug\":\"general-medicine\"},{\"speciality_id\":\"27\",\"name\":\"Genetics\",\"slug\":\"genetics\"},{\"speciality_id\":\"29\",\"name\":\"Geriatric Medicine\",\"slug\":\"geriatric-medicine\"},{\"speciality_id\":\"34\",\"name\":\"Hepatobiliary Surgery\",\"slug\":\"hepatobiliary-surgery\"},{\"speciality_id\":\"35\",\"name\":\"ICU and Critical Care\",\"slug\":\"icu-and-critical-care\"},{\"speciality_id\":\"36\",\"name\":\"Infectious Disease\",\"slug\":\"infectious-disease\"},{\"speciality_id\":\"37\",\"name\":\"Internal Medicine\",\"slug\":\"internal-medicine\"},{\"speciality_id\":\"39\",\"name\":\"Laboratory Medicine\",\"slug\":\"laboratory-medicine\"},{\"speciality_id\":\"40\",\"name\":\"Neonatology & NICU\",\"slug\":\"neonatology-nicu\"},{\"speciality_id\":\"41\",\"name\":\"Nuclear Medicine\",\"slug\":\"nuclear-medicine\"},{\"speciality_id\":\"42\",\"name\":\"Nutrition And Dietetics\",\"slug\":\"nutrition-and-dietetics\"},{\"speciality_id\":\"43\",\"name\":\"Ophthalmology\",\"slug\":\"ophthalmology\"},{\"speciality_id\":\"46\",\"name\":\"Plastic And Cosmetic Surgery\",\"slug\":\"plastic-and-cosmetic-surgery\"},{\"speciality_id\":\"48\",\"name\":\"Psychiatry\",\"slug\":\"psychiatry\"},{\"speciality_id\":\"49\",\"name\":\"Psychology\",\"slug\":\"psychology\"},{\"speciality_id\":\"50\",\"name\":\"Pulmonology (Respiratory and Sleep Medicine)\",\"slug\":\"pulmonology-respiratory-sleep-medicine\"},{\"speciality_id\":\"51\",\"name\":\"Radiology\",\"slug\":\"radiology\"},{\"speciality_id\":\"52\",\"name\":\"Rehabilitation Medicine\",\"slug\":\"rehabilitation-medicine\"},{\"speciality_id\":\"56\",\"name\":\"Sports Medicine\",\"slug\":\"sports-medicine\"},{\"speciality_id\":\"63\",\"name\":\"Vascular and Endovascular Surgery\",\"slug\":\"vascular-surgery\"},{\"speciality_id\":\"64\",\"name\":\"Transfusion Medicine\",\"slug\":\"transfusion-medicine\"}]'"
      ]
     },
     "execution_count": 4,
     "metadata": {},
     "output_type": "execute_result"
    }
   ],
   "source": [
    "api_response.text"
   ]
  },
  {
   "cell_type": "code",
   "execution_count": null,
   "metadata": {},
   "outputs": [],
   "source": []
  }
 ],
 "metadata": {
  "kernelspec": {
   "display_name": "Python 3",
   "language": "python",
   "name": "python3"
  },
  "language_info": {
   "codemirror_mode": {
    "name": "ipython",
    "version": 3
   },
   "file_extension": ".py",
   "mimetype": "text/x-python",
   "name": "python",
   "nbconvert_exporter": "python",
   "pygments_lexer": "ipython3",
   "version": "3.7.1"
  }
 },
 "nbformat": 4,
 "nbformat_minor": 2
}
