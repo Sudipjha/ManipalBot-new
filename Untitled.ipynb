{
 "cells": [
  {
   "cell_type": "code",
   "execution_count": null,
   "metadata": {},
   "outputs": [
    {
     "name": "stdout",
     "output_type": "stream",
     "text": [
      " * Serving Flask app \"__main__\" (lazy loading)\n",
      " * Environment: production\n",
      "   WARNING: Do not use the development server in a production environment.\n",
      "   Use a production WSGI server instead.\n",
      " * Debug mode: off\n"
     ]
    },
    {
     "name": "stderr",
     "output_type": "stream",
     "text": [
      " * Running on http://127.0.0.1:5000/ (Press CTRL+C to quit)\n"
     ]
    }
   ],
   "source": [
    "# import flask dependencies\n",
    "from flask import Flask, request, make_response, jsonify\n",
    "import requests\n",
    "from requests.auth import HTTPBasicAuth\n",
    "import json\n",
    "\n",
    "\n",
    "# initialize the flask app\n",
    "app = Flask(__name__)\n",
    "\n",
    "# default route\n",
    "@app.route('/')\n",
    "def index():\n",
    "    return 'Hello World!'\n",
    "\n",
    "# function for responses\n",
    "def results():\n",
    "    # build a request object\n",
    "    req = request.get_json(force=True)\n",
    "    \n",
    "    \n",
    "    if req['queryResult']['intent']['displayName'] == \"english - book appointment - banaguluru\":\n",
    "        search_id = req['queryResult']['parameters']['Banguluruhospitals']\n",
    "        api_response = requests.get('https://test.manipalhospitals.com/chatbot-get-hospitals-speciality/'+search_id,auth = HTTPBasicAuth('manipalchatbotapi','manipalchatbotapi'))\n",
    "        api_response = json.loads(api_response)\n",
    "        items = []\n",
    "        for i in range(len(speciality_response)):\n",
    "            my_dict = {}\n",
    "            my_dict[\"info\"] = {\"key\":speciality_response[i]['name']}\n",
    "            my_dict[\"title\"] = speciality_response[i]['name']\n",
    "            my_dict[\"image\"] = {}\n",
    "            items.append(my_dict)\n",
    "        return {\n",
    "        \"fulfillmentMessages\": [\n",
    "          {\n",
    "            \"platform\": \"ACTIONS_ON_GOOGLE\",\n",
    "            \"simpleResponses\": {\n",
    "              \"simpleResponses\": [\n",
    "                {\n",
    "                  \"textToSpeech\": \"Select your specialties you are looking for:\"\n",
    "                }\n",
    "              ]\n",
    "            }\n",
    "          },\n",
    "          {\n",
    "            \"platform\": \"ACTIONS_ON_GOOGLE\",\n",
    "            \"listSelect\": {\n",
    "              \"title\": \"Centre Of Excellence\",\n",
    "              \"items\": items\n",
    "            }\n",
    "          }\n",
    "        ]}\n",
    "    \n",
    "    \n",
    "    #print(req)\n",
    "    if req['queryResult']['intent']['displayName'] == 'english - find doctors - specialties1' or 'old airport road - cardiology':\n",
    "        api_response = requests.get('https://www.manipalhospitals.com/patient_api/index_get',auth = HTTPBasicAuth('manipal','M@AnipalDoc##2020'))\n",
    "        api_response = json.loads(api_response.text)\n",
    "        items = []\n",
    "        for i in range(5):\n",
    "            my_dict = {}\n",
    "            image_dict = {}\n",
    "            key = {}\n",
    "            key['key'] = api_response[i]['DoctorCode']\n",
    "            image_dict['imageUri'] = api_response[i]['photo']\n",
    "            image_dict['accessibilityText'] = api_response[i]['doc_name']\n",
    "            my_dict['info'] = key\n",
    "            my_dict['title'] = api_response[i]['doc_name']\n",
    "            my_dict['description'] = api_response[i]['DeptName']\n",
    "            my_dict['image'] = image_dict\n",
    "            items.append(my_dict)\n",
    "        \n",
    "        return  {'fulfillmentMessages': [\n",
    "      {\n",
    "        \"platform\": \"ACTIONS_ON_GOOGLE\",\n",
    "        \"simpleResponses\": {\n",
    "          \"simpleResponses\": [\n",
    "            {\n",
    "              \"textToSpeech\": \"Here is the list of Doctors\"\n",
    "            }\n",
    "          ]\n",
    "        }\n",
    "      },\n",
    "       {\n",
    "         \"platform\": \"ACTIONS_ON_GOOGLE\",\n",
    "         \"carouselSelect\": {\n",
    "           \"items\":items\n",
    "         }\n",
    "       }\n",
    "    ]}\n",
    "    \n",
    "    \n",
    "    # fetch action from json\n",
    "    \n",
    "    #return {'fulfillmentMessages':[{\"text\":{\"text\":['Hello']}}]}\n",
    "    # return a fulfillment response\n",
    "    \n",
    "\n",
    "# create a route for webhook\n",
    "@app.route('/webhook/', methods=['GET', 'POST'])\n",
    "def webhook():\n",
    "    # return response\n",
    "    return make_response(jsonify(results()))\n",
    "\n",
    "# run the app\n",
    "if __name__ == '__main__':\n",
    "   app.run()"
   ]
  },
  {
   "cell_type": "code",
   "execution_count": null,
   "metadata": {},
   "outputs": [],
   "source": []
  },
  {
   "cell_type": "code",
   "execution_count": null,
   "metadata": {},
   "outputs": [],
   "source": [
    "req = {'responseId': '5d2cd7c9-1f78-4f0e-a926-9e5deb3b125b-5d846bd5', 'queryResult': {'queryText': 'cardiology', 'action': 'DefaultWelcomeIntent.DefaultWelcomeIntent-custom.english-custom.english-finddoctors-custom', 'parameters': {}, 'allRequiredParamsPresent': True, 'fulfillmentMessages': [{'platform': 'ACTIONS_ON_GOOGLE', 'simpleResponses': {'simpleResponses': [{'textToSpeech': 'Below are the concern doctor for you.'}]}}, {'platform': 'ACTIONS_ON_GOOGLE', 'simpleResponses': {'simpleResponses': [{'textToSpeech': 'Click on card for book appointment and View detail.'}]}}, {'platform': 'ACTIONS_ON_GOOGLE', 'carouselSelect': {'items': [{'info': {'key': 'DR. ANAND R SHENOY'}, 'title': 'DR. ANAND R SHENOY', 'description': 'Consultant - Interventional Cardiology', 'image': {'imageUri': 'https://www.manipalhospitals.com/uploads/doctors_photo/Cardiology_-_Dr_Anand_Shenoy4.png', 'accessibilityText': 'DR. ANAND R SHENOY'}}, {'info': {'key': 'DR. CHAKRAPANI B S'}, 'title': 'DR. CHAKRAPANI B S', 'description': 'Consultant - Cardiology', 'image': {'imageUri': 'https://www.manipalhospitals.com/uploads/doctors_photo/Cardiology_-_Dr_Chakrapani_B_S.png', 'accessibilityText': 'DR. CHAKRAPANI B S'}}, {'info': {'key': 'DR. BIPIN KUMAR DUBEY'}, 'title': 'DR. BIPIN KUMAR DUBEY', 'description': 'HOD And Consultant - Cardiac Science', 'image': {'imageUri': 'https://www.manipalhospitals.com/uploads/doctors_photo/Dr_Bipin_Dubey.png', 'accessibilityText': 'DR. BIPIN KUMAR DUBEY'}}]}}, {'text': {'text': ['']}}], 'outputContexts': [{'name': 'projects/manipal-chatbot-test-ceks/locations/global/agent/sessions/3a0c4b99-46d3-03cc-7246-4eb13124b3da/contexts/english-finddoctors-followup', 'lifespanCount': 1}, {'name': 'projects/manipal-chatbot-test-ceks/locations/global/agent/sessions/3a0c4b99-46d3-03cc-7246-4eb13124b3da/contexts/english-followup', 'parameters': {'language': ['English'], 'language.original': ['english']}}, {'name': 'projects/manipal-chatbot-test-ceks/locations/global/agent/sessions/3a0c4b99-46d3-03cc-7246-4eb13124b3da/contexts/__system_counters__', 'parameters': {'no-input': 0.0, 'no-match': 0.0}}], 'intent': {'name': 'projects/manipal-chatbot-test-ceks/agent/intents/c1bbc7b5-d76c-40d4-ad37-6ade463ef46e', 'displayName': 'english - find doctors - specialties1'}, 'intentDetectionConfidence': 1.0, 'languageCode': 'en'}, 'originalDetectIntentRequest': {'source': 'DIALOGFLOW_CONSOLE', 'payload': {}}, 'session': 'projects/manipal-chatbot-test-ceks/locations/global/agent/sessions/3a0c4b99-46d3-03cc-7246-4eb13124b3da'}"
   ]
  },
  {
   "cell_type": "code",
   "execution_count": null,
   "metadata": {},
   "outputs": [],
   "source": [
    "req['queryResult']['intent']['displayName']"
   ]
  },
  {
   "cell_type": "code",
   "execution_count": null,
   "metadata": {},
   "outputs": [],
   "source": [
    "import requests\n",
    "from requests.auth import HTTPBasicAuth\n",
    "\n",
    "api_response = requests.get('https://www.manipalhospitals.com/patient_api/index_get',auth = HTTPBasicAuth('manipal','M@AnipalDoc##2020'))"
   ]
  },
  {
   "cell_type": "code",
   "execution_count": null,
   "metadata": {},
   "outputs": [],
   "source": [
    "import json\n",
    "api_response = json.loads(api_response.text)"
   ]
  },
  {
   "cell_type": "code",
   "execution_count": 1,
   "metadata": {},
   "outputs": [],
   "source": [
    "import pygsheets\n",
    "#authorization\n",
    "gc = pygsheets.authorize(service_file='muliplier-bot-iyl9-ccd96b75d437.json')\n",
    "\n",
    "\n",
    "#open the google spreadsheet (where 'PY to Gsheet Test' is the name of my sheet)\n",
    "sh = gc.open('multiplier_bot_data')\n",
    "wks = sh[0]\n",
    "old_df = wks.get_as_df()\n",
    "#select the first sheet \n",
    "\n",
    "# new_df = pd.concat([old_df,df])\n",
    "# #update the first sheet with df, starting at cell B2. \n",
    "# wks.set_dataframe(new_df,(1,1))"
   ]
  },
  {
   "cell_type": "code",
   "execution_count": 2,
   "metadata": {},
   "outputs": [
    {
     "data": {
      "text/html": [
       "<div>\n",
       "<style scoped>\n",
       "    .dataframe tbody tr th:only-of-type {\n",
       "        vertical-align: middle;\n",
       "    }\n",
       "\n",
       "    .dataframe tbody tr th {\n",
       "        vertical-align: top;\n",
       "    }\n",
       "\n",
       "    .dataframe thead th {\n",
       "        text-align: right;\n",
       "    }\n",
       "</style>\n",
       "<table border=\"1\" class=\"dataframe\">\n",
       "  <thead>\n",
       "    <tr style=\"text-align: right;\">\n",
       "      <th></th>\n",
       "      <th>User ID</th>\n",
       "      <th>Mobile_Number</th>\n",
       "      <th>User_message</th>\n",
       "      <th>Bot_message</th>\n",
       "      <th>Timestamp</th>\n",
       "      <th>Session id</th>\n",
       "    </tr>\n",
       "  </thead>\n",
       "  <tbody>\n",
       "  </tbody>\n",
       "</table>\n",
       "</div>"
      ],
      "text/plain": [
       "Empty DataFrame\n",
       "Columns: [User ID, Mobile_Number, User_message, Bot_message, Timestamp, Session id]\n",
       "Index: []"
      ]
     },
     "execution_count": 2,
     "metadata": {},
     "output_type": "execute_result"
    }
   ],
   "source": [
    "old_df.head()"
   ]
  },
  {
   "cell_type": "code",
   "execution_count": 9,
   "metadata": {},
   "outputs": [],
   "source": [
    "import requests\n",
    "from requests.auth import HTTPBasicAuth\n",
    "\n",
    "api_response = requests.get('https://test.manipalhospitals.com/chatbot-get-hospitals-speciality/2',auth = HTTPBasicAuth('manipalchatbotapi','manipalchatbotapi'))"
   ]
  },
  {
   "cell_type": "code",
   "execution_count": 11,
   "metadata": {},
   "outputs": [],
   "source": [
    "import json\n",
    "speciality_response = json.loads(api_response.text)"
   ]
  },
  {
   "cell_type": "code",
   "execution_count": null,
   "metadata": {},
   "outputs": [],
   "source": [
    "\"fulfillmentMessages\": [\n",
    "      {\n",
    "        \"platform\": \"ACTIONS_ON_GOOGLE\",\n",
    "        \"simpleResponses\": {\n",
    "          \"simpleResponses\": [\n",
    "            {\n",
    "              \"textToSpeech\": \"Select your specialties you are looking for:\"\n",
    "            }\n",
    "          ]\n",
    "        }\n",
    "      },\n",
    "      {\n",
    "        \"platform\": \"ACTIONS_ON_GOOGLE\",\n",
    "        \"listSelect\": {\n",
    "          \"title\": \"Centre Of Excellence\",\n",
    "          \"items\": items\n",
    "        }\n",
    "      }\n",
    "    ],"
   ]
  },
  {
   "cell_type": "code",
   "execution_count": 15,
   "metadata": {},
   "outputs": [
    {
     "data": {
      "text/plain": [
       "{'speciality_id': '57',\n",
       " 'name': 'Accident and Emergency Care',\n",
       " 'slug': 'accident-and-emergency-care'}"
      ]
     },
     "execution_count": 15,
     "metadata": {},
     "output_type": "execute_result"
    }
   ],
   "source": [
    "{\n",
    "          \"title\": \"Centre Of Excellence\",\n",
    "          \"items\": [\n",
    "            {\n",
    "              \"info\": {\n",
    "                \"key\": \"Cardiology\"\n",
    "              },\n",
    "              \"title\": \"Cardiology\",\n",
    "              \"image\": {}\n",
    "            },\n",
    "            {\n",
    "              \"info\": {\n",
    "                \"key\": \"oncology\"\n",
    "              },\n",
    "              \"title\": \"oncology\",\n",
    "              \"image\": {}\n",
    "            }\n",
    "          ]\n",
    "        }"
   ]
  },
  {
   "cell_type": "code",
   "execution_count": 16,
   "metadata": {},
   "outputs": [],
   "source": [
    "items = []\n",
    "for i in range(len(speciality_response)):\n",
    "    my_dict = {}\n",
    "    my_dict[\"info\"] = {\"key\":speciality_response[i]['name']}\n",
    "    my_dict[\"title\"] = speciality_response[i]['name']\n",
    "    my_dict[\"image\"] = {}\n",
    "    items.append(my_dict)"
   ]
  },
  {
   "cell_type": "code",
   "execution_count": 17,
   "metadata": {},
   "outputs": [
    {
     "data": {
      "text/plain": [
       "[{'info': {'key': 'Accident and Emergency Care'},\n",
       "  'title': 'Accident and Emergency Care',\n",
       "  'image': {}},\n",
       " {'info': {'key': 'Cancer Care'}, 'title': 'Cancer Care', 'image': {}},\n",
       " {'info': {'key': 'Cardiology'}, 'title': 'Cardiology', 'image': {}},\n",
       " {'info': {'key': 'Gastrointestinal Science'},\n",
       "  'title': 'Gastrointestinal Science',\n",
       "  'image': {}},\n",
       " {'info': {'key': 'Laparoscopic Surgery'},\n",
       "  'title': 'Laparoscopic Surgery',\n",
       "  'image': {}},\n",
       " {'info': {'key': 'Nephrology'}, 'title': 'Nephrology', 'image': {}},\n",
       " {'info': {'key': 'Neurology'}, 'title': 'Neurology', 'image': {}},\n",
       " {'info': {'key': 'Neurosurgery'}, 'title': 'Neurosurgery', 'image': {}},\n",
       " {'info': {'key': 'Obstetrics and Gynaecology'},\n",
       "  'title': 'Obstetrics and Gynaecology',\n",
       "  'image': {}},\n",
       " {'info': {'key': 'Orthopaedics'}, 'title': 'Orthopaedics', 'image': {}},\n",
       " {'info': {'key': 'Paediatric And Child Care'},\n",
       "  'title': 'Paediatric And Child Care',\n",
       "  'image': {}},\n",
       " {'info': {'key': 'Rheumatology'}, 'title': 'Rheumatology', 'image': {}},\n",
       " {'info': {'key': 'Spine Care'}, 'title': 'Spine Care', 'image': {}},\n",
       " {'info': {'key': 'Urology'}, 'title': 'Urology', 'image': {}},\n",
       " {'info': {'key': 'Anesthesiology'}, 'title': 'Anesthesiology', 'image': {}},\n",
       " {'info': {'key': 'Dental Medicine'}, 'title': 'Dental Medicine', 'image': {}},\n",
       " {'info': {'key': 'Dermatology'}, 'title': 'Dermatology', 'image': {}},\n",
       " {'info': {'key': 'Diabetes and Endocrinology'},\n",
       "  'title': 'Diabetes and Endocrinology',\n",
       "  'image': {}},\n",
       " {'info': {'key': 'Ear Nose Throat'}, 'title': 'Ear Nose Throat', 'image': {}},\n",
       " {'info': {'key': 'General Medicine'},\n",
       "  'title': 'General Medicine',\n",
       "  'image': {}},\n",
       " {'info': {'key': 'General Surgery'}, 'title': 'General Surgery', 'image': {}},\n",
       " {'info': {'key': 'Hand Surgery'}, 'title': 'Hand Surgery', 'image': {}},\n",
       " {'info': {'key': 'Internal Medicine'},\n",
       "  'title': 'Internal Medicine',\n",
       "  'image': {}},\n",
       " {'info': {'key': 'Neonatology & NICU'},\n",
       "  'title': 'Neonatology & NICU',\n",
       "  'image': {}},\n",
       " {'info': {'key': 'Nutrition And Dietetics'},\n",
       "  'title': 'Nutrition And Dietetics',\n",
       "  'image': {}},\n",
       " {'info': {'key': 'Ophthalmology'}, 'title': 'Ophthalmology', 'image': {}},\n",
       " {'info': {'key': 'Physiotherapy'}, 'title': 'Physiotherapy', 'image': {}},\n",
       " {'info': {'key': 'Plastic And Cosmetic Surgery'},\n",
       "  'title': 'Plastic And Cosmetic Surgery',\n",
       "  'image': {}},\n",
       " {'info': {'key': 'Psychiatry'}, 'title': 'Psychiatry', 'image': {}},\n",
       " {'info': {'key': 'Pulmonology (Respiratory and Sleep Medicine)'},\n",
       "  'title': 'Pulmonology (Respiratory and Sleep Medicine)',\n",
       "  'image': {}},\n",
       " {'info': {'key': 'Radiology'}, 'title': 'Radiology', 'image': {}},\n",
       " {'info': {'key': 'Sports Medicine'}, 'title': 'Sports Medicine', 'image': {}},\n",
       " {'info': {'key': 'Vascular and Endovascular Surgery'},\n",
       "  'title': 'Vascular and Endovascular Surgery',\n",
       "  'image': {}},\n",
       " {'info': {'key': 'Pathology'}, 'title': 'Pathology', 'image': {}}]"
      ]
     },
     "execution_count": 17,
     "metadata": {},
     "output_type": "execute_result"
    }
   ],
   "source": [
    "items"
   ]
  },
  {
   "cell_type": "code",
   "execution_count": null,
   "metadata": {},
   "outputs": [],
   "source": []
  }
 ],
 "metadata": {
  "kernelspec": {
   "display_name": "Python 3",
   "language": "python",
   "name": "python3"
  },
  "language_info": {
   "codemirror_mode": {
    "name": "ipython",
    "version": 3
   },
   "file_extension": ".py",
   "mimetype": "text/x-python",
   "name": "python",
   "nbconvert_exporter": "python",
   "pygments_lexer": "ipython3",
   "version": "3.7.1"
  }
 },
 "nbformat": 4,
 "nbformat_minor": 2
}
