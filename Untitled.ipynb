{
 "cells": [
  {
   "cell_type": "code",
   "execution_count": null,
   "metadata": {},
   "outputs": [
    {
     "name": "stdout",
     "output_type": "stream",
     "text": [
      " * Serving Flask app \"__main__\" (lazy loading)\n",
      " * Environment: production\n",
      "   WARNING: Do not use the development server in a production environment.\n",
      "   Use a production WSGI server instead.\n",
      " * Debug mode: off\n"
     ]
    },
    {
     "name": "stderr",
     "output_type": "stream",
     "text": [
      " * Running on http://127.0.0.1:5000/ (Press CTRL+C to quit)\n",
      "127.0.0.1 - - [23/Oct/2020 14:19:17] \"POST /webhook HTTP/1.1\" 301 -\n",
      "127.0.0.1 - - [23/Oct/2020 14:20:01] \"POST /webhook/ HTTP/1.1\" 200 -\n"
     ]
    },
    {
     "name": "stdout",
     "output_type": "stream",
     "text": [
      "[{'info': {'key': 'MHBDC1846'}, 'title': 'Dr. Mabel Vasnaik', 'description': 'EMERGENCY ADULT EMER MHB', 'image': {'imageUri': 'https://www.manipalhospitals.com/uploads/doctors_photo/Emergency_Medicine_-_Dr_Mabel_Vasnaik.png', 'accessibilityText': 'Dr. Mabel Vasnaik'}}, {'info': {'key': 'MHBDC1136'}, 'title': 'Dr. Amit Rauthan', 'description': 'ONCOLOGY MEDICAL MHB', 'image': {'imageUri': 'https://www.manipalhospitals.com/uploads/doctors_photo/Medical_Oncology_-_Dr_Amit_Rauthan.png', 'accessibilityText': 'Dr. Amit Rauthan'}}, {'info': {'key': 'MHBCARD3'}, 'title': 'Dr. Anand R Shenoy', 'description': 'CARDIOLOGY MHB', 'image': {'imageUri': 'https://www.manipalhospitals.com/uploads/doctors_photo/Cardiology_-_Dr_Anand_Shenoy4.png', 'accessibilityText': 'Dr. Anand R Shenoy'}}, {'info': {'key': 'MHBDC9829'}, 'title': 'Dr. Kavya Mallikarjun', 'description': 'PAEDIATRIC CARDIOLOGY  MHB', 'image': {'imageUri': 'https://www.manipalhospitals.com/uploads/doctors_photo/Caridology_-_Dr_Kavya_Mallikarjun.png', 'accessibilityText': 'Dr. Kavya Mallikarjun'}}, {'info': {'key': 'MHBDC9829'}, 'title': 'Dr. Kavya Mallikarjun', 'description': 'PAEDIATRIC CARDIOLOGY  MHB', 'image': {'imageUri': 'https://www.manipalhospitals.com/uploads/doctors_photo/Caridology_-_Dr_Kavya_Mallikarjun.png', 'accessibilityText': 'Dr. Kavya Mallikarjun'}}]\n"
     ]
    },
    {
     "name": "stderr",
     "output_type": "stream",
     "text": [
      "127.0.0.1 - - [23/Oct/2020 14:20:31] \"POST /webhook/ HTTP/1.1\" 200 -\n"
     ]
    },
    {
     "name": "stdout",
     "output_type": "stream",
     "text": [
      "[{'info': {'key': 'MHBDC1846'}, 'title': 'Dr. Mabel Vasnaik', 'description': 'EMERGENCY ADULT EMER MHB', 'image': {'imageUri': 'https://www.manipalhospitals.com/uploads/doctors_photo/Emergency_Medicine_-_Dr_Mabel_Vasnaik.png', 'accessibilityText': 'Dr. Mabel Vasnaik'}}, {'info': {'key': 'MHBDC1136'}, 'title': 'Dr. Amit Rauthan', 'description': 'ONCOLOGY MEDICAL MHB', 'image': {'imageUri': 'https://www.manipalhospitals.com/uploads/doctors_photo/Medical_Oncology_-_Dr_Amit_Rauthan.png', 'accessibilityText': 'Dr. Amit Rauthan'}}, {'info': {'key': 'MHBCARD3'}, 'title': 'Dr. Anand R Shenoy', 'description': 'CARDIOLOGY MHB', 'image': {'imageUri': 'https://www.manipalhospitals.com/uploads/doctors_photo/Cardiology_-_Dr_Anand_Shenoy4.png', 'accessibilityText': 'Dr. Anand R Shenoy'}}, {'info': {'key': 'MHBDC9829'}, 'title': 'Dr. Kavya Mallikarjun', 'description': 'PAEDIATRIC CARDIOLOGY  MHB', 'image': {'imageUri': 'https://www.manipalhospitals.com/uploads/doctors_photo/Caridology_-_Dr_Kavya_Mallikarjun.png', 'accessibilityText': 'Dr. Kavya Mallikarjun'}}, {'info': {'key': 'MHBDC9829'}, 'title': 'Dr. Kavya Mallikarjun', 'description': 'PAEDIATRIC CARDIOLOGY  MHB', 'image': {'imageUri': 'https://www.manipalhospitals.com/uploads/doctors_photo/Caridology_-_Dr_Kavya_Mallikarjun.png', 'accessibilityText': 'Dr. Kavya Mallikarjun'}}]\n"
     ]
    },
    {
     "name": "stderr",
     "output_type": "stream",
     "text": [
      "127.0.0.1 - - [23/Oct/2020 14:20:54] \"POST /webhook/ HTTP/1.1\" 200 -\n"
     ]
    },
    {
     "name": "stdout",
     "output_type": "stream",
     "text": [
      "[{'info': {'key': 'MHBDC1846'}, 'title': 'Dr. Mabel Vasnaik', 'description': 'EMERGENCY ADULT EMER MHB', 'image': {'imageUri': 'https://www.manipalhospitals.com/uploads/doctors_photo/Emergency_Medicine_-_Dr_Mabel_Vasnaik.png', 'accessibilityText': 'Dr. Mabel Vasnaik'}}, {'info': {'key': 'MHBDC1136'}, 'title': 'Dr. Amit Rauthan', 'description': 'ONCOLOGY MEDICAL MHB', 'image': {'imageUri': 'https://www.manipalhospitals.com/uploads/doctors_photo/Medical_Oncology_-_Dr_Amit_Rauthan.png', 'accessibilityText': 'Dr. Amit Rauthan'}}, {'info': {'key': 'MHBCARD3'}, 'title': 'Dr. Anand R Shenoy', 'description': 'CARDIOLOGY MHB', 'image': {'imageUri': 'https://www.manipalhospitals.com/uploads/doctors_photo/Cardiology_-_Dr_Anand_Shenoy4.png', 'accessibilityText': 'Dr. Anand R Shenoy'}}, {'info': {'key': 'MHBDC9829'}, 'title': 'Dr. Kavya Mallikarjun', 'description': 'PAEDIATRIC CARDIOLOGY  MHB', 'image': {'imageUri': 'https://www.manipalhospitals.com/uploads/doctors_photo/Caridology_-_Dr_Kavya_Mallikarjun.png', 'accessibilityText': 'Dr. Kavya Mallikarjun'}}, {'info': {'key': 'MHBDC9829'}, 'title': 'Dr. Kavya Mallikarjun', 'description': 'PAEDIATRIC CARDIOLOGY  MHB', 'image': {'imageUri': 'https://www.manipalhospitals.com/uploads/doctors_photo/Caridology_-_Dr_Kavya_Mallikarjun.png', 'accessibilityText': 'Dr. Kavya Mallikarjun'}}]\n"
     ]
    },
    {
     "name": "stderr",
     "output_type": "stream",
     "text": [
      "127.0.0.1 - - [23/Oct/2020 14:21:21] \"POST /webhook/ HTTP/1.1\" 200 -\n"
     ]
    },
    {
     "name": "stdout",
     "output_type": "stream",
     "text": [
      "[{'info': {'key': 'MHBDC1846'}, 'title': 'Dr. Mabel Vasnaik', 'description': 'EMERGENCY ADULT EMER MHB', 'image': {'imageUri': 'https://www.manipalhospitals.com/uploads/doctors_photo/Emergency_Medicine_-_Dr_Mabel_Vasnaik.png', 'accessibilityText': 'Dr. Mabel Vasnaik'}}, {'info': {'key': 'MHBDC1136'}, 'title': 'Dr. Amit Rauthan', 'description': 'ONCOLOGY MEDICAL MHB', 'image': {'imageUri': 'https://www.manipalhospitals.com/uploads/doctors_photo/Medical_Oncology_-_Dr_Amit_Rauthan.png', 'accessibilityText': 'Dr. Amit Rauthan'}}, {'info': {'key': 'MHBCARD3'}, 'title': 'Dr. Anand R Shenoy', 'description': 'CARDIOLOGY MHB', 'image': {'imageUri': 'https://www.manipalhospitals.com/uploads/doctors_photo/Cardiology_-_Dr_Anand_Shenoy4.png', 'accessibilityText': 'Dr. Anand R Shenoy'}}, {'info': {'key': 'MHBDC9829'}, 'title': 'Dr. Kavya Mallikarjun', 'description': 'PAEDIATRIC CARDIOLOGY  MHB', 'image': {'imageUri': 'https://www.manipalhospitals.com/uploads/doctors_photo/Caridology_-_Dr_Kavya_Mallikarjun.png', 'accessibilityText': 'Dr. Kavya Mallikarjun'}}, {'info': {'key': 'MHBDC9829'}, 'title': 'Dr. Kavya Mallikarjun', 'description': 'PAEDIATRIC CARDIOLOGY  MHB', 'image': {'imageUri': 'https://www.manipalhospitals.com/uploads/doctors_photo/Caridology_-_Dr_Kavya_Mallikarjun.png', 'accessibilityText': 'Dr. Kavya Mallikarjun'}}]\n"
     ]
    }
   ],
   "source": [
    "# import flask dependencies\n",
    "from flask import Flask, request, make_response, jsonify\n",
    "import requests\n",
    "from requests.auth import HTTPBasicAuth\n",
    "import json\n",
    "\n",
    "\n",
    "# initialize the flask app\n",
    "app = Flask(__name__)\n",
    "\n",
    "# default route\n",
    "@app.route('/')\n",
    "def index():\n",
    "    return 'Hello World!'\n",
    "\n",
    "# function for responses\n",
    "def results():\n",
    "    # build a request object\n",
    "    req = request.get_json(force=True)\n",
    "    #print(req)\n",
    "    if req['queryResult']['intent']['displayName'] == 'english - find doctors - specialties1':\n",
    "        api_response = requests.get('https://www.manipalhospitals.com/patient_api/index_get',auth = HTTPBasicAuth('manipal','M@AnipalDoc##2020'))\n",
    "        api_response = json.loads(api_response.text)\n",
    "        items = []\n",
    "        for i in range(5):\n",
    "            my_dict = {}\n",
    "            image_dict = {}\n",
    "            key = {}\n",
    "            key['key'] = api_response[i]['DoctorCode']\n",
    "            image_dict['imageUri'] = api_response[i]['photo']\n",
    "            image_dict['accessibilityText'] = api_response[i]['doc_name']\n",
    "            my_dict['info'] = key\n",
    "            my_dict['title'] = api_response[i]['doc_name']\n",
    "            my_dict['description'] = api_response[i]['DeptName']\n",
    "            my_dict['image'] = image_dict\n",
    "            items.append(my_dict)\n",
    "        print(items)\n",
    "        return  {'fulfillmentMessages': [\n",
    "      {\n",
    "        \"platform\": \"ACTIONS_ON_GOOGLE\",\n",
    "        \"simpleResponses\": {\n",
    "          \"simpleResponses\": [\n",
    "            {\n",
    "              \"textToSpeech\": \"Here is the list of Doctors\"\n",
    "            }\n",
    "          ]\n",
    "        }\n",
    "      },\n",
    "       {\n",
    "         \"platform\": \"ACTIONS_ON_GOOGLE\",\n",
    "         \"carouselSelect\": {\n",
    "           \"items\":items\n",
    "         }\n",
    "       }\n",
    "    ]}\n",
    "        \n",
    "    # fetch action from json\n",
    "    \n",
    "    #return {'fulfillmentMessages':[{\"text\":{\"text\":['Hello']}}]}\n",
    "    # return a fulfillment response\n",
    "    \n",
    "\n",
    "# create a route for webhook\n",
    "@app.route('/webhook/', methods=['GET', 'POST'])\n",
    "def webhook():\n",
    "    # return response\n",
    "    return make_response(jsonify(results()))\n",
    "\n",
    "# run the app\n",
    "if __name__ == '__main__':\n",
    "   app.run()"
   ]
  },
  {
   "cell_type": "code",
   "execution_count": null,
   "metadata": {},
   "outputs": [],
   "source": []
  },
  {
   "cell_type": "code",
   "execution_count": null,
   "metadata": {},
   "outputs": [],
   "source": [
    "req = {'responseId': '5d2cd7c9-1f78-4f0e-a926-9e5deb3b125b-5d846bd5', 'queryResult': {'queryText': 'cardiology', 'action': 'DefaultWelcomeIntent.DefaultWelcomeIntent-custom.english-custom.english-finddoctors-custom', 'parameters': {}, 'allRequiredParamsPresent': True, 'fulfillmentMessages': [{'platform': 'ACTIONS_ON_GOOGLE', 'simpleResponses': {'simpleResponses': [{'textToSpeech': 'Below are the concern doctor for you.'}]}}, {'platform': 'ACTIONS_ON_GOOGLE', 'simpleResponses': {'simpleResponses': [{'textToSpeech': 'Click on card for book appointment and View detail.'}]}}, {'platform': 'ACTIONS_ON_GOOGLE', 'carouselSelect': {'items': [{'info': {'key': 'DR. ANAND R SHENOY'}, 'title': 'DR. ANAND R SHENOY', 'description': 'Consultant - Interventional Cardiology', 'image': {'imageUri': 'https://www.manipalhospitals.com/uploads/doctors_photo/Cardiology_-_Dr_Anand_Shenoy4.png', 'accessibilityText': 'DR. ANAND R SHENOY'}}, {'info': {'key': 'DR. CHAKRAPANI B S'}, 'title': 'DR. CHAKRAPANI B S', 'description': 'Consultant - Cardiology', 'image': {'imageUri': 'https://www.manipalhospitals.com/uploads/doctors_photo/Cardiology_-_Dr_Chakrapani_B_S.png', 'accessibilityText': 'DR. CHAKRAPANI B S'}}, {'info': {'key': 'DR. BIPIN KUMAR DUBEY'}, 'title': 'DR. BIPIN KUMAR DUBEY', 'description': 'HOD And Consultant - Cardiac Science', 'image': {'imageUri': 'https://www.manipalhospitals.com/uploads/doctors_photo/Dr_Bipin_Dubey.png', 'accessibilityText': 'DR. BIPIN KUMAR DUBEY'}}]}}, {'text': {'text': ['']}}], 'outputContexts': [{'name': 'projects/manipal-chatbot-test-ceks/locations/global/agent/sessions/3a0c4b99-46d3-03cc-7246-4eb13124b3da/contexts/english-finddoctors-followup', 'lifespanCount': 1}, {'name': 'projects/manipal-chatbot-test-ceks/locations/global/agent/sessions/3a0c4b99-46d3-03cc-7246-4eb13124b3da/contexts/english-followup', 'parameters': {'language': ['English'], 'language.original': ['english']}}, {'name': 'projects/manipal-chatbot-test-ceks/locations/global/agent/sessions/3a0c4b99-46d3-03cc-7246-4eb13124b3da/contexts/__system_counters__', 'parameters': {'no-input': 0.0, 'no-match': 0.0}}], 'intent': {'name': 'projects/manipal-chatbot-test-ceks/agent/intents/c1bbc7b5-d76c-40d4-ad37-6ade463ef46e', 'displayName': 'english - find doctors - specialties1'}, 'intentDetectionConfidence': 1.0, 'languageCode': 'en'}, 'originalDetectIntentRequest': {'source': 'DIALOGFLOW_CONSOLE', 'payload': {}}, 'session': 'projects/manipal-chatbot-test-ceks/locations/global/agent/sessions/3a0c4b99-46d3-03cc-7246-4eb13124b3da'}"
   ]
  },
  {
   "cell_type": "code",
   "execution_count": null,
   "metadata": {},
   "outputs": [],
   "source": [
    "req['queryResult']['intent']['displayName']"
   ]
  },
  {
   "cell_type": "code",
   "execution_count": null,
   "metadata": {},
   "outputs": [],
   "source": [
    "import requests\n",
    "from requests.auth import HTTPBasicAuth\n",
    "\n",
    "api_response = requests.get('https://www.manipalhospitals.com/patient_api/index_get',auth = HTTPBasicAuth('manipal','M@AnipalDoc##2020'))"
   ]
  },
  {
   "cell_type": "code",
   "execution_count": null,
   "metadata": {},
   "outputs": [],
   "source": [
    "import json\n",
    "api_response = json.loads(api_response.text)"
   ]
  },
  {
   "cell_type": "code",
   "execution_count": null,
   "metadata": {},
   "outputs": [],
   "source": [
    "len(api_response)"
   ]
  },
  {
   "cell_type": "code",
   "execution_count": null,
   "metadata": {},
   "outputs": [],
   "source": [
    "api_response[5]['doc_name']"
   ]
  },
  {
   "cell_type": "code",
   "execution_count": null,
   "metadata": {},
   "outputs": [],
   "source": [
    "api_response[0]['DeptName']"
   ]
  },
  {
   "cell_type": "code",
   "execution_count": null,
   "metadata": {},
   "outputs": [],
   "source": [
    "\n",
    "\n",
    "for i in range(len(api_response)):\n",
    "    if api_response[i]['DeptName']=='cardiology':\n",
    "        "
   ]
  },
  {
   "cell_type": "code",
   "execution_count": null,
   "metadata": {},
   "outputs": [],
   "source": [
    "a = {\n",
    "          \"items\": [\n",
    "            {\n",
    "              \"info\": {\n",
    "                \"key\": \"qeagsg\"\n",
    "              },\n",
    "              \"title\": \"erasdr\",\n",
    "              \"description\": \"sfsag\",\n",
    "              \"image\": {\n",
    "                \"imageUri\": \"https://www.manipalhospitals.com/uploads/doctors_photo/Cardiology_-_Dr_Anand_Shenoy4.png\",\n",
    "                \"accessibilityText\": \"dfmkas;df\"\n",
    "              }\n",
    "            },\n",
    "            {\n",
    "              \"info\": {\n",
    "                \"key\": \"sdasd\"\n",
    "              },\n",
    "              \"title\": \"sdgs\",\n",
    "              \"description\": \"gsdf\",\n",
    "              \"image\": {\n",
    "                \"imageUri\": \"https://www.manipalhospitals.com/uploads/doctors_photo/Cardiology_-_Dr_Anand_Shenoy4.png\",\n",
    "                \"accessibilityText\": \"qwgsdg\"\n",
    "              }\n",
    "            }\n",
    "          ]}"
   ]
  },
  {
   "cell_type": "code",
   "execution_count": null,
   "metadata": {},
   "outputs": [],
   "source": [
    "api_response"
   ]
  },
  {
   "cell_type": "code",
   "execution_count": null,
   "metadata": {},
   "outputs": [],
   "source": [
    "h = []"
   ]
  },
  {
   "cell_type": "code",
   "execution_count": null,
   "metadata": {},
   "outputs": [],
   "source": [
    "items = []\n",
    "for i in range(5):\n",
    "    my_dict = {}\n",
    "    image_dict = {}\n",
    "    key = {}\n",
    "    key['key'] = api_response[i]['DoctorCode']\n",
    "    image_dict['imageUri'] = api_response[i]['photo']\n",
    "    image_dict['accessibilityText'] = api_response[i]['doc_name']\n",
    "    my_dict['info'] = key\n",
    "    my_dict['title'] = api_response[i]['doc_name']\n",
    "    my_dict['description'] = api_response[i]['DeptName']\n",
    "    my_dict['image'] = image_dict\n",
    "    items.append(my_dict)"
   ]
  },
  {
   "cell_type": "code",
   "execution_count": null,
   "metadata": {},
   "outputs": [],
   "source": [
    "t = {}\n",
    "t['items'] = items"
   ]
  },
  {
   "cell_type": "code",
   "execution_count": null,
   "metadata": {},
   "outputs": [],
   "source": [
    "t"
   ]
  },
  {
   "cell_type": "code",
   "execution_count": null,
   "metadata": {},
   "outputs": [],
   "source": []
  }
 ],
 "metadata": {
  "kernelspec": {
   "display_name": "Python 3",
   "language": "python",
   "name": "python3"
  },
  "language_info": {
   "codemirror_mode": {
    "name": "ipython",
    "version": 3
   },
   "file_extension": ".py",
   "mimetype": "text/x-python",
   "name": "python",
   "nbconvert_exporter": "python",
   "pygments_lexer": "ipython3",
   "version": "3.7.1"
  }
 },
 "nbformat": 4,
 "nbformat_minor": 2
}
